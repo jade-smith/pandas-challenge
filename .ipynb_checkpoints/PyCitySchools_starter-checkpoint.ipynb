{
 "cells": [
  {
   "cell_type": "code",
   "execution_count": 21,
   "id": "c88d1bc0",
   "metadata": {},
   "outputs": [
    {
     "data": {
      "text/html": [
       "<div>\n",
       "<style scoped>\n",
       "    .dataframe tbody tr th:only-of-type {\n",
       "        vertical-align: middle;\n",
       "    }\n",
       "\n",
       "    .dataframe tbody tr th {\n",
       "        vertical-align: top;\n",
       "    }\n",
       "\n",
       "    .dataframe thead th {\n",
       "        text-align: right;\n",
       "    }\n",
       "</style>\n",
       "<table border=\"1\" class=\"dataframe\">\n",
       "  <thead>\n",
       "    <tr style=\"text-align: right;\">\n",
       "      <th></th>\n",
       "      <th>Student ID</th>\n",
       "      <th>student_name</th>\n",
       "      <th>gender</th>\n",
       "      <th>grade</th>\n",
       "      <th>school_name</th>\n",
       "      <th>reading_score</th>\n",
       "      <th>math_score</th>\n",
       "      <th>School ID</th>\n",
       "      <th>type</th>\n",
       "      <th>size</th>\n",
       "      <th>budget</th>\n",
       "    </tr>\n",
       "  </thead>\n",
       "  <tbody>\n",
       "    <tr>\n",
       "      <th>0</th>\n",
       "      <td>0</td>\n",
       "      <td>Paul Bradley</td>\n",
       "      <td>M</td>\n",
       "      <td>9th</td>\n",
       "      <td>Huang High School</td>\n",
       "      <td>66</td>\n",
       "      <td>79</td>\n",
       "      <td>0</td>\n",
       "      <td>District</td>\n",
       "      <td>2917</td>\n",
       "      <td>1910635</td>\n",
       "    </tr>\n",
       "    <tr>\n",
       "      <th>1</th>\n",
       "      <td>1</td>\n",
       "      <td>Victor Smith</td>\n",
       "      <td>M</td>\n",
       "      <td>12th</td>\n",
       "      <td>Huang High School</td>\n",
       "      <td>94</td>\n",
       "      <td>61</td>\n",
       "      <td>0</td>\n",
       "      <td>District</td>\n",
       "      <td>2917</td>\n",
       "      <td>1910635</td>\n",
       "    </tr>\n",
       "    <tr>\n",
       "      <th>2</th>\n",
       "      <td>2</td>\n",
       "      <td>Kevin Rodriguez</td>\n",
       "      <td>M</td>\n",
       "      <td>12th</td>\n",
       "      <td>Huang High School</td>\n",
       "      <td>90</td>\n",
       "      <td>60</td>\n",
       "      <td>0</td>\n",
       "      <td>District</td>\n",
       "      <td>2917</td>\n",
       "      <td>1910635</td>\n",
       "    </tr>\n",
       "    <tr>\n",
       "      <th>3</th>\n",
       "      <td>3</td>\n",
       "      <td>Dr. Richard Scott</td>\n",
       "      <td>M</td>\n",
       "      <td>12th</td>\n",
       "      <td>Huang High School</td>\n",
       "      <td>67</td>\n",
       "      <td>58</td>\n",
       "      <td>0</td>\n",
       "      <td>District</td>\n",
       "      <td>2917</td>\n",
       "      <td>1910635</td>\n",
       "    </tr>\n",
       "    <tr>\n",
       "      <th>4</th>\n",
       "      <td>4</td>\n",
       "      <td>Bonnie Ray</td>\n",
       "      <td>F</td>\n",
       "      <td>9th</td>\n",
       "      <td>Huang High School</td>\n",
       "      <td>97</td>\n",
       "      <td>84</td>\n",
       "      <td>0</td>\n",
       "      <td>District</td>\n",
       "      <td>2917</td>\n",
       "      <td>1910635</td>\n",
       "    </tr>\n",
       "  </tbody>\n",
       "</table>\n",
       "</div>"
      ],
      "text/plain": [
       "   Student ID       student_name gender grade        school_name  \\\n",
       "0           0       Paul Bradley      M   9th  Huang High School   \n",
       "1           1       Victor Smith      M  12th  Huang High School   \n",
       "2           2    Kevin Rodriguez      M  12th  Huang High School   \n",
       "3           3  Dr. Richard Scott      M  12th  Huang High School   \n",
       "4           4         Bonnie Ray      F   9th  Huang High School   \n",
       "\n",
       "   reading_score  math_score  School ID      type  size   budget  \n",
       "0             66          79          0  District  2917  1910635  \n",
       "1             94          61          0  District  2917  1910635  \n",
       "2             90          60          0  District  2917  1910635  \n",
       "3             67          58          0  District  2917  1910635  \n",
       "4             97          84          0  District  2917  1910635  "
      ]
     },
     "execution_count": 21,
     "metadata": {},
     "output_type": "execute_result"
    }
   ],
   "source": [
    "# import dependencies\n",
    "import pandas as pd\n",
    "\n",
    "# Load CSV files\n",
    "school_data = pd.read_csv('schools_complete.csv')\n",
    "student_data = pd.read_csv('students_complete.csv')\n",
    "\n",
    "# Merge data into one DataFrame\n",
    "school_df = pd.merge(student_data, school_data, how='left', on=['school_name', 'school_name'])\n",
    "school_df.head()"
   ]
  },
  {
   "cell_type": "code",
   "execution_count": 22,
   "id": "84a97463",
   "metadata": {},
   "outputs": [],
   "source": [
    "## District Summary"
   ]
  },
  {
   "cell_type": "code",
   "execution_count": 23,
   "id": "c705b555",
   "metadata": {},
   "outputs": [],
   "source": [
    "# Total number of unique schools\n",
    "total_schools = school_df['school_name'].nunique()\n",
    "\n",
    "# Total number of students\n",
    "total_students = school_df['student_name'].count()\n",
    "\n",
    "# Total budget\n",
    "total_budget = school_df['budget'].sum()\n",
    "\n",
    "# Average math score\n",
    "math_score_avg = school_df['math_score'].mean()\n",
    "\n",
    "# Average reading score\n",
    "reading_score_avg = school_df['reading_score'].mean()\n",
    "\n",
    "# Percentange of students with passing math scores\n",
    "passing_math = (school_df['math_score'] >= 70).mean() * 100\n",
    "\n",
    "# Percentage of students with passing reading scores\n",
    "passing_reading = (school_df['reading_score'] >= 70).mean() * 100\n",
    "\n",
    "# Percentage of students with passing reading and math scores\n",
    "passing_overall = ((school_df['math_score'] >= 70) & (school_df['reading_score'] >= 70)).mean() * 100\n",
    "\n",
    "#District Summary DF\n",
    "district_summary = pd.DataFrame({\n",
    "    'Total Schools': [total_schools],\n",
    "    'Total Students': [total_students],\n",
    "    'Total Budget': [total_budget],\n",
    "    'Average Math Score': [math_score_avg],\n",
    "    '% Passing Math': [passing_math],\n",
    "    '% Passing Reading': [passing_reading],\n",
    "    '% Overall Passing': [passing_overall]\n",
    "})"
   ]
  },
  {
   "cell_type": "code",
   "execution_count": 24,
   "id": "7c21bfa0",
   "metadata": {},
   "outputs": [],
   "source": [
    "## School Summary"
   ]
  },
  {
   "cell_type": "code",
   "execution_count": 25,
   "id": "6ad5808e",
   "metadata": {},
   "outputs": [
    {
     "ename": "NameError",
     "evalue": "name 'avg_reading_school' is not defined",
     "output_type": "error",
     "traceback": [
      "\u001b[0;31m---------------------------------------------------------------------------\u001b[0m",
      "\u001b[0;31mNameError\u001b[0m                                 Traceback (most recent call last)",
      "Cell \u001b[0;32mIn[25], line 38\u001b[0m\n\u001b[1;32m     29\u001b[0m overall_passing_percentage \u001b[38;5;241m=\u001b[39m school_df[(school_df[\u001b[38;5;124m'\u001b[39m\u001b[38;5;124mmath_score\u001b[39m\u001b[38;5;124m'\u001b[39m] \u001b[38;5;241m>\u001b[39m\u001b[38;5;241m=\u001b[39m \u001b[38;5;241m70\u001b[39m) \u001b[38;5;241m&\u001b[39m (school_df[\u001b[38;5;124m'\u001b[39m\u001b[38;5;124mreading_score\u001b[39m\u001b[38;5;124m'\u001b[39m] \u001b[38;5;241m>\u001b[39m\u001b[38;5;241m=\u001b[39m \u001b[38;5;241m70\u001b[39m)]\u001b[38;5;241m.\u001b[39mgroupby(\u001b[38;5;124m'\u001b[39m\u001b[38;5;124mschool_name\u001b[39m\u001b[38;5;124m'\u001b[39m)[\u001b[38;5;124m'\u001b[39m\u001b[38;5;124mStudent ID\u001b[39m\u001b[38;5;124m'\u001b[39m]\u001b[38;5;241m.\u001b[39mcount() \u001b[38;5;241m/\u001b[39m total_students_school \u001b[38;5;241m*\u001b[39m \u001b[38;5;241m100\u001b[39m\n\u001b[1;32m     31\u001b[0m \u001b[38;5;66;03m# School Summary DF\u001b[39;00m\n\u001b[1;32m     32\u001b[0m school_summary \u001b[38;5;241m=\u001b[39m pd\u001b[38;5;241m.\u001b[39mDataFrame({\n\u001b[1;32m     33\u001b[0m     \u001b[38;5;124m'\u001b[39m\u001b[38;5;124mSchool Type\u001b[39m\u001b[38;5;124m'\u001b[39m: school_type,\n\u001b[1;32m     34\u001b[0m     \u001b[38;5;124m'\u001b[39m\u001b[38;5;124mTotal Students\u001b[39m\u001b[38;5;124m'\u001b[39m: total_students_school,\n\u001b[1;32m     35\u001b[0m     \u001b[38;5;124m'\u001b[39m\u001b[38;5;124mTotal School Budget\u001b[39m\u001b[38;5;124m'\u001b[39m: total_school_budget,\n\u001b[1;32m     36\u001b[0m     \u001b[38;5;124m'\u001b[39m\u001b[38;5;124mPer Student Budget\u001b[39m\u001b[38;5;124m'\u001b[39m : per_student_budget,\n\u001b[1;32m     37\u001b[0m     \u001b[38;5;124m'\u001b[39m\u001b[38;5;124mAverage Math Score\u001b[39m\u001b[38;5;124m'\u001b[39m : avg_math_score_school,\n\u001b[0;32m---> 38\u001b[0m     \u001b[38;5;124m'\u001b[39m\u001b[38;5;124mAverage Reading Score\u001b[39m\u001b[38;5;124m'\u001b[39m : avg_reading_school,\n\u001b[1;32m     39\u001b[0m     \u001b[38;5;124m'\u001b[39m\u001b[38;5;124m%\u001b[39m\u001b[38;5;124m Passing Math\u001b[39m\u001b[38;5;124m'\u001b[39m : passing_math_percentange_school,\n\u001b[1;32m     40\u001b[0m     \u001b[38;5;124m'\u001b[39m\u001b[38;5;124m%\u001b[39m\u001b[38;5;124m Passing Reading\u001b[39m\u001b[38;5;124m'\u001b[39m : passing_reading_percentage_school\n\u001b[1;32m     41\u001b[0m })\n",
      "\u001b[0;31mNameError\u001b[0m: name 'avg_reading_school' is not defined"
     ]
    }
   ],
   "source": [
    "# Group by school name\n",
    "by_school = school_df.set_index('school_name').groupby(['school_name'])\n",
    "\n",
    "# School type\n",
    "school_type = school_df.set_index('school_name')['type']\n",
    "\n",
    "# Total students by school\n",
    "total_students_school = by_school['Student ID'].count()\n",
    "\n",
    "# Total school budget\n",
    "total_school_budget = school_df.set_index('school_name')['budget']\n",
    "\n",
    "# Budget per student\n",
    "per_student_budget = total_school_budget / total_students_school\n",
    "\n",
    "# Average math score by school\n",
    "avg_math_score_school = by_school['math_score'].mean()\n",
    "\n",
    "# Average reading score by school\n",
    "avg_reading_score_school = by_school['reading_score'].mean()\n",
    "\n",
    "# Percentage passing math by school\n",
    "passing_math_percentage_school = school_df[school_df['math_score'] >= 70].groupby('school_name')['Student ID'].count() / total_students_school * 100\n",
    "\n",
    "# Percentage reading by school\n",
    "passing_reading_percentage_school = school_df[school_df['reading_score'] >= 70].groupby('school_name')['Student ID'].count() / total_students_school * 100\n",
    "\n",
    "# Overall passing percentage by school\n",
    "overall_passing_percentage = school_df[(school_df['math_score'] >= 70) & (school_df['reading_score'] >= 70)].groupby('school_name')['Student ID'].count() / total_students_school * 100\n",
    "\n",
    "# School Summary DF\n",
    "school_summary = pd.DataFrame({\n",
    "    'School Type': school_type,\n",
    "    'Total Students': total_students_school,\n",
    "    'Total School Budget': total_school_budget,\n",
    "    'Per Student Budget' : per_student_budget,\n",
    "    'Average Math Score' : avg_math_score_school,\n",
    "    'Average Reading Score' : avg_reading_school,\n",
    "    '% Passing Math' : passing_math_percentange_school,\n",
    "    '% Passing Reading' : passing_reading_percentage_school\n",
    "})\n"
   ]
  },
  {
   "cell_type": "code",
   "execution_count": null,
   "id": "c5667b81",
   "metadata": {},
   "outputs": [],
   "source": [
    "## Highest-Performing Schools"
   ]
  },
  {
   "cell_type": "code",
   "execution_count": null,
   "id": "fd1b504a",
   "metadata": {},
   "outputs": [],
   "source": [
    "top_schools = school_summary.sort_values(by='% Overall Passing', ascending=False).head(5)"
   ]
  },
  {
   "cell_type": "code",
   "execution_count": null,
   "id": "ed21d2fd",
   "metadata": {},
   "outputs": [],
   "source": [
    "## Lowest-Performing Schools"
   ]
  },
  {
   "cell_type": "code",
   "execution_count": null,
   "id": "d4094081",
   "metadata": {},
   "outputs": [],
   "source": [
    "bottom_schools = school_summary.sort_values(by='% Overall Passing').head(5)"
   ]
  },
  {
   "cell_type": "code",
   "execution_count": null,
   "id": "bcc5a851",
   "metadata": {},
   "outputs": [],
   "source": [
    "## Math Score by Grade"
   ]
  },
  {
   "cell_type": "code",
   "execution_count": null,
   "id": "e8ef345c",
   "metadata": {},
   "outputs": [],
   "source": [
    "# Pivot table\n",
    "math_scores_by_grade = school_df.pivot_table(values='math_score', index='school_name', columns='grade', aggfunc='mean')\n",
    "\n",
    "# Reorder columns\n",
    "math_scores_by_grade = math_scores_by_grade[['9th', '10th', '11th', '12th']]"
   ]
  },
  {
   "cell_type": "code",
   "execution_count": null,
   "id": "8eab6adb",
   "metadata": {},
   "outputs": [],
   "source": [
    "## Reading Scores by Grade"
   ]
  },
  {
   "cell_type": "code",
   "execution_count": null,
   "id": "0b2dec84",
   "metadata": {},
   "outputs": [],
   "source": [
    "# Pivot Table\n",
    "reading_scores_by_grade = school_df.pivot_table(values='reading_score', index='school_name', columns='grade', aggfunc='mean')\n",
    "\n",
    "# Reorder columns\n",
    "reading_scores_by_grade = reading_scores_by_grade[['9th', '10th', '11th', '12th']]"
   ]
  },
  {
   "cell_type": "code",
   "execution_count": null,
   "id": "be9f82c0",
   "metadata": {},
   "outputs": [],
   "source": [
    "## Scores by School Spending"
   ]
  },
  {
   "cell_type": "code",
   "execution_count": null,
   "id": "a4181ecc",
   "metadata": {},
   "outputs": [],
   "source": [
    "# Bins by spending ranges\n",
    "spending_bins = [0, 585, 630, 645, 680]\n",
    "spending_labels = [\"<$585\", \"$585-630\", \"$630-645\", \"$645-680\"]\n",
    "school_summary['Spending Ranges (Per Student)'] = pd.cut(school_summary['Per Student Budget'], bins=spending_bins, labels=spending_labels)\n",
    "\n",
    "spending_math_scores = school_spending_df.groupby([\"Spending Ranges (Per Student)\"])[\"Average Math Score\"].mean()\n",
    "spending_reading_scores = school_spending_df.groupby([\"Spending Ranges (Per Student)\"])[\"Average Reading Score\"].mean()\n",
    "spending_passing_math = school_spending_df.groupby([\"Spending Ranges (Per Student)\"])[\"% Passing Math\"].mean()\n",
    "spending_passing_reading = school_spending_df.groupby([\"Spending Ranges (Per Student)\"])[\"% Passing Reading\"].mean()\n",
    "overall_passing_spending = school_spending_df.groupby([\"Spending Ranges (Per Student)\"])[\"% Overall Passing\"].mean()\n",
    "\n",
    "# Create DF\n",
    "spending_summary = {\n",
    "    'Average Math Score': spending_math_scores,\n",
    "    'Average Reading Score': spending_reading_scores,\n",
    "    '% Passing Math': spending_passing_math,\n",
    "    '$ Passing Reading': spending_passing_reading,\n",
    "    '% Overall Passing': overall_passing_spending}\n",
    "\n",
    "spending_summary_df = pd.DataFrame(spending_summary)"
   ]
  },
  {
   "cell_type": "code",
   "execution_count": null,
   "id": "1fc78dd3",
   "metadata": {},
   "outputs": [],
   "source": [
    "## Scores by School Size"
   ]
  },
  {
   "cell_type": "code",
   "execution_count": null,
   "id": "a65ca2f6",
   "metadata": {},
   "outputs": [],
   "source": [
    "# Bin by school size\n",
    "size_bins = [0, 1000, 2000, 5000]\n",
    "size_labels = [\"Small (<1000)\", \"Medium (1000-2000)\", \"Large (2000-5000)\"]\n",
    "school_summary['School Size'] = pd.cut(school_summary['Total Students'], bins=size_bins, labels=size_labels)\n",
    "\n",
    "# Group by school size\n",
    "size_summary = school_summary.groupby('Spending Ranges (Per Student)').agg({\n",
    "    'Average Math Score': 'mean',\n",
    "    'Average Reading Score': 'mean',\n",
    "    '% Passing Math': 'mean',\n",
    "    '$ Passing Reading': 'mean',\n",
    "    '% Overall Passing': 'mean'\n",
    "})"
   ]
  },
  {
   "cell_type": "code",
   "execution_count": null,
   "id": "97d92320",
   "metadata": {},
   "outputs": [],
   "source": [
    "## Scores by School Type"
   ]
  },
  {
   "cell_type": "code",
   "execution_count": null,
   "id": "9fbafe8d",
   "metadata": {},
   "outputs": [],
   "source": [
    "# Group by school type\n",
    "type_summary = school_summary.groupby('School Type').agg({\n",
    "    'Average Math Score': 'mean',\n",
    "    'Average Reading Score': 'mean',\n",
    "    '% Passing Math': 'mean',\n",
    "    '% Passing Reading': 'mean',\n",
    "    '% Overall Passing': 'mean'\n",
    "})"
   ]
  }
 ],
 "metadata": {
  "kernelspec": {
   "display_name": "Python 3 (ipykernel)",
   "language": "python",
   "name": "python3"
  },
  "language_info": {
   "codemirror_mode": {
    "name": "ipython",
    "version": 3
   },
   "file_extension": ".py",
   "mimetype": "text/x-python",
   "name": "python",
   "nbconvert_exporter": "python",
   "pygments_lexer": "ipython3",
   "version": "3.11.5"
  }
 },
 "nbformat": 4,
 "nbformat_minor": 5
}
